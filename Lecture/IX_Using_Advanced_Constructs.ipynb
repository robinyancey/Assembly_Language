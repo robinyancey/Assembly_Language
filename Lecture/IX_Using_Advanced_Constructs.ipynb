{
  "nbformat": 4,
  "nbformat_minor": 0,
  "metadata": {
    "colab": {
      "provenance": []
    },
    "kernelspec": {
      "name": "python3",
      "display_name": "Python 3"
    },
    "language_info": {
      "name": "python"
    }
  },
  "cells": [
    {
      "cell_type": "markdown",
      "source": [
        "## **IX. Using Advanced Constructs**\n",
        "Increase your productivity with more advanced coding techniques. You'll learn how to structure data with macros, use conditional-assembly directives to cut down on code repetition, and make your programs more dynamic with control constructs like .IF, .WHILE, and .FOR.  \n",
        "# Topics covered.\n",
        "A. How structures differ in assembler\n",
        "\n",
        "B. Placing code in macros\n",
        "\n",
        "C. Shortcuts using conditional-assembly directives\n",
        "\n",
        "1. .IF .ELSE\n",
        "\n",
        "2. .WHILE\n",
        "\n",
        "3. .FOR\n",
        "---\n",
        "\n",
        "### **A. How structures differ in assembler**\n",
        "\n",
        "In high-level languages like C or Python, structures (or objects) allow grouping different types of data under one name.\n",
        "In assembler, you can create **structures** using the `STRUCT` directive, but they don't have built-in member functions — they are simply memory layouts.\n",
        "\n",
        "**Key Points:**\n",
        "\n",
        "* A structure in assembler is just a block of memory with named offsets.\n",
        "* Each field's offset is automatically calculated.\n",
        "* You access members using the structure name + field name.\n",
        "\n",
        "#### **Example - Defining and Using a Structure**"
      ],
      "metadata": {
        "id": "AQuEpljAYDsN"
      }
    },
    {
      "cell_type": "code",
      "source": [
        "; Example: Defining a POINT structure and using it\n",
        "; NASM syntax\n",
        "section .data\n",
        "    ; Define the structure manually\n",
        "    struc POINT\n",
        "        .x: resd 1     ; 4 bytes for X coordinate\n",
        "        .y: resd 1     ; 4 bytes for Y coordinate\n",
        "    endstruc\n",
        "\n",
        "    ; Create an instance of POINT\n",
        "    myPoint:\n",
        "        istruc POINT\n",
        "            at POINT.x, dd 10\n",
        "            at POINT.y, dd 20\n",
        "        iend\n",
        "\n",
        "section .text\n",
        "    global _start\n",
        "_start:\n",
        "    ; Load X coordinate into EAX\n",
        "    mov eax, [myPoint + POINT.x]\n",
        "    ; Load Y coordinate into EBX\n",
        "    mov ebx, [myPoint + POINT.y]\n",
        "\n",
        "    ; Exit\n",
        "    mov eax, 60\n",
        "    xor edi, edi\n",
        "    syscall"
      ],
      "metadata": {
        "id": "q24Lez1RYFbl"
      },
      "execution_count": null,
      "outputs": []
    },
    {
      "cell_type": "markdown",
      "source": [
        "**Explanation:**\n",
        "We define `POINT` as a structure with `.x` and `.y` fields. Then we create `myPoint` with values 10 and 20. Accessing them is done using `POINT.x` and `POINT.y` offsets.\n",
        "\n",
        "---\n",
        "\n",
        "### **B. Placing code in macros**\n",
        "\n",
        "Macros in assembler are like inline templates — they save time typing repetitive code.\n",
        "\n",
        "**Key Points:**\n",
        "\n",
        "* Defined with `%macro` and `%endmacro` in NASM (or `MACRO`/`ENDM` in MASM).\n",
        "* No function call overhead — code is inserted inline.\n",
        "* Parameters make them reusable.\n",
        "\n",
        "#### **Example - Macro for Printing a String (Linux)**"
      ],
      "metadata": {
        "id": "KMHBteeQYTFk"
      }
    },
    {
      "cell_type": "code",
      "source": [
        "section .data\n",
        "    hello db \"Hello from macro!\", 0xA\n",
        "    helloLen equ $ - hello\n",
        "\n",
        "section .text\n",
        "    global _start\n",
        "\n",
        "%macro PRINT 2\n",
        "    mov eax, 1          ; sys_write\n",
        "    mov edi, 1          ; stdout\n",
        "    mov rsi, %1         ; string address\n",
        "    mov rdx, %2         ; string length\n",
        "    syscall\n",
        "%endmacro\n",
        "\n",
        "_start:\n",
        "    PRINT hello, helloLen\n",
        "    mov eax, 60         ; exit\n",
        "    xor edi, edi\n",
        "    syscall"
      ],
      "metadata": {
        "id": "YZP-kvTCYh93"
      },
      "execution_count": null,
      "outputs": []
    },
    {
      "cell_type": "markdown",
      "source": [
        "**Explanation:**\n",
        "`PRINT` is a macro with two parameters — the string address and length. Instead of writing syscalls manually each time, we just call `PRINT`.\n",
        "\n",
        "---\n",
        "\n",
        "### **C. Shortcuts using conditional-assembly directives**\n",
        "\n",
        "Assembler lets you **conditionally compile code** based on constants, defines, or environment.\n",
        "\n",
        "#### **1. `.IF / .ELSE`**"
      ],
      "metadata": {
        "id": "ul-CLN-pZLcn"
      }
    },
    {
      "cell_type": "code",
      "source": [
        "%define DEBUG 1\n",
        "\n",
        "section .text\n",
        "global _start\n",
        "_start:\n",
        "%if DEBUG = 1\n",
        "    ; Debug mode code\n",
        "    nop\n",
        "%else\n",
        "    ; Release mode code\n",
        "    nop\n",
        "%endif\n",
        "\n",
        "mov eax, 60\n",
        "xor edi, edi\n",
        "syscall"
      ],
      "metadata": {
        "id": "ZG5nKXvBZPzK"
      },
      "execution_count": null,
      "outputs": []
    },
    {
      "cell_type": "markdown",
      "source": [
        "#### **2. `.WHILE`**\n",
        "\n",
        "```asm\n",
        "%assign count 0\n",
        "%while count < 5\n",
        "    ; This will be repeated at assembly time, not runtime\n",
        "    %assign count count + 1\n",
        "%endwhile\n",
        "```\n",
        "\n",
        "#### **3. `.FOR`**\n",
        "\n",
        "```asm\n",
        "%assign i 0\n",
        "%rep 3\n",
        "    ; Assembly-time loop body\n",
        "    %assign i i + 1\n",
        "%endrep\n",
        "```\n",
        "\n",
        "**Explanation:**\n",
        "These constructs control **what gets assembled**, not runtime behavior — useful for generating repeated patterns, debug code, or multiple function variations without manual duplication."
      ],
      "metadata": {
        "id": "-tVBcVG8Xa6t"
      }
    },
    {
      "cell_type": "markdown",
      "source": [
        "⬇️"
      ],
      "metadata": {
        "id": "It9fzJ48b-gf"
      }
    },
    {
      "cell_type": "markdown",
      "source": [
        "### **B. Placing Code in Macros**\n",
        "### **1. Concept Overview**\n",
        "\n",
        "In assembly language, **macros** are powerful tools that allow you to define a sequence of instructions once and reuse them multiple times. Unlike procedures, macros are expanded **at assembly time**, meaning the assembler replaces each macro call with the actual instructions defined in the macro.\n",
        "\n",
        "**Key benefits of using macros:**\n",
        "\n",
        "* **Code reusability** - write once, use anywhere.\n",
        "* **Parameterization** - macros can accept arguments for flexibility.\n",
        "* **Performance** - no call/return overhead (since instructions are inserted directly).\n",
        "* **Readability** - complex operations can be given a meaningful name.\n",
        "\n",
        "**Key drawbacks:**\n",
        "\n",
        "* **Increased code size** - because instructions are duplicated wherever the macro is used.\n",
        "* **No runtime flexibility** - changes require re-assembly.\n",
        "\n",
        "---\n",
        "\n",
        "### **2. Syntax for Defining a Macro**\n",
        "\n",
        "```asm\n",
        "MyMacro MACRO param1, param2\n",
        "    mov eax, param1\n",
        "    add eax, param2\n",
        "    call DisplayValue\n",
        "ENDM\n",
        "```\n",
        "\n",
        "Here:\n",
        "\n",
        "* `MACRO` - begins the macro definition.\n",
        "* `param1, param2` - parameters passed when the macro is used.\n",
        "* `ENDM` - ends the macro definition.\n",
        "\n",
        "---\n",
        "\n",
        "### **3. Example: Using Macros in MASM**\n",
        "\n",
        "**Code Example - Adding Two Numbers with a Macro**\n",
        "\n",
        "```asm\n",
        "; Simple macro to add two values and display the result\n",
        "INCLUDE Irvine32.inc\n",
        "\n",
        "AddAndShow MACRO num1, num2\n",
        "    mov eax, num1\n",
        "    add eax, num2\n",
        "    call WriteInt\n",
        "    call Crlf\n",
        "ENDM\n",
        "\n",
        ".data\n",
        "val1 DWORD 7\n",
        "val2 DWORD 3\n",
        "\n",
        ".code\n",
        "main PROC\n",
        "    ; Using the macro\n",
        "    AddAndShow val1, val2\n",
        "    AddAndShow 100, 250\n",
        "    exit\n",
        "main ENDP\n",
        "END main\n",
        "```\n",
        "\n",
        "**Explanation:**\n",
        "\n",
        "* The `AddAndShow` macro takes **two parameters** (`num1`, `num2`).\n",
        "* Each call to the macro inserts **mov**, **add**, and display instructions **directly** into the program.\n",
        "* We demonstrate usage with both **variables** and **immediate values**.\n",
        "\n",
        "---\n",
        "\n",
        "### **4. Why Use Macros Instead of Procedures?**\n",
        "\n",
        "* **When speed is more important than program size** (macros avoid procedure call overhead).\n",
        "* **For short, frequently used code snippets**.\n",
        "* **When you want to make assembly code easier to read** without introducing runtime jumps.\n",
        "\n",
        "---\n",
        "\n",
        "### **5. Potential Pitfalls**\n",
        "\n",
        "* Excessive macro use can **bloat program size**.\n",
        "* Macros **cannot be debugged like normal functions**—you step through expanded code.\n",
        "* Overusing macros for large logic blocks can make maintenance harder.\n",
        "\n",
        "---\n",
        "\n",
        "### **6. Colab Simulation**\n",
        "\n",
        "While macros are MASM-specific, in Google Colab you can:\n",
        "\n",
        "1. Write the `.asm` file containing the macro.\n",
        "2. Assemble and link it using **JWasm** or **MASM** via DOSBox or Wine in Colab.\n",
        "3. Run the executable to see output.\n"
      ],
      "metadata": {
        "id": "C5udzVtGbaY1"
      }
    },
    {
      "cell_type": "markdown",
      "source": [
        "⬇️"
      ],
      "metadata": {
        "id": "-KmFheQycEcK"
      }
    },
    {
      "cell_type": "markdown",
      "source": [
        "## C. Shortcuts Using Conditional-Assembly Directives**\n",
        "\n",
        "### **1. Concept Overview**\n",
        "\n",
        "Conditional-assembly directives in MASM allow you to control **which code is included during assembly**, and they also provide **higher-level syntax** to make assembly programming more readable and concise.\n",
        "They work at **assembly time**, not runtime.\n",
        "\n",
        "Three common constructs are:\n",
        "\n",
        "1. `.IF / .ELSE / .ENDIF` - conditional branching\n",
        "2. `.WHILE / .ENDW` - loops\n",
        "3. `.FOR / .ENDF` - counted loops or iteration over ranges\n",
        "\n",
        "These make MASM look a little more like high-level languages such as C or Pascal.\n",
        "\n",
        "---\n",
        "\n",
        "## **2. `.IF / .ELSE / .ENDIF`**\n",
        "\n",
        "**Purpose:** Conditional branching without manually writing `CMP` and `JMP` instructions.\n",
        "\n",
        "**Syntax:**\n",
        "\n",
        "```asm\n",
        ".IF condition\n",
        "    ; code if condition true\n",
        ".ELSE\n",
        "    ; code if condition false\n",
        ".ENDIF\n",
        "```\n",
        "\n",
        "**Example - Compare Two Numbers**"
      ],
      "metadata": {
        "id": "7Eanjj08gwN5"
      }
    },
    {
      "cell_type": "code",
      "source": [
        "INCLUDE Irvine32.inc\n",
        "\n",
        ".data\n",
        "num1 DWORD 15\n",
        "num2 DWORD 10\n",
        "\n",
        ".code\n",
        "main PROC\n",
        "    mov eax, num1\n",
        "    mov ebx, num2\n",
        "\n",
        "    .IF eax > ebx\n",
        "        call WriteString\n",
        "        db \"num1 is greater\",0\n",
        "    .ELSE\n",
        "        call WriteString\n",
        "        db \"num2 is greater or equal\",0\n",
        "    .ENDIF\n",
        "\n",
        "    exit\n",
        "main ENDP\n",
        "END main"
      ],
      "metadata": {
        "id": "YSU8nKl3g5vc"
      },
      "execution_count": null,
      "outputs": []
    },
    {
      "cell_type": "markdown",
      "source": [
        "**Explanation:**\n",
        "\n",
        "* The `.IF` directive checks the condition at **assembly time** and generates the proper CMP/JMP instructions.\n",
        "* MASM translates `.IF eax > ebx` into `cmp eax, ebx` + `jg` behind the scenes.\n",
        "\n",
        "---\n",
        "\n",
        "## **3. `.WHILE / .ENDW`**\n",
        "\n",
        "**Purpose:** Repeat a block of code while a condition is true.\n",
        "\n",
        "**Syntax:**\n",
        "\n",
        "```asm\n",
        ".WHILE condition\n",
        "    ; code to repeat\n",
        ".ENDW\n",
        "```\n",
        "\n",
        "**Example - Countdown**"
      ],
      "metadata": {
        "id": "j61J46E1hB7H"
      }
    },
    {
      "cell_type": "code",
      "source": [
        "INCLUDE Irvine32.inc\n",
        "\n",
        ".data\n",
        "count DWORD 5\n",
        "\n",
        ".code\n",
        "main PROC\n",
        "    mov eax, count\n",
        "\n",
        "    .WHILE eax > 0\n",
        "        call WriteInt\n",
        "        call Crlf\n",
        "        dec eax\n",
        "    .ENDW\n",
        "\n",
        "    exit\n",
        "main ENDP\n",
        "END main"
      ],
      "metadata": {
        "id": "2f4vfLZphJ2S"
      },
      "execution_count": null,
      "outputs": []
    },
    {
      "cell_type": "markdown",
      "source": [
        "**Explanation:**\n",
        "\n",
        "* Equivalent to:\n",
        "\n",
        "  ```asm\n",
        "  cmp eax, 0\n",
        "  jle end_loop\n",
        "  ; body\n",
        "  jmp loop_start\n",
        "  ```\n",
        "\n",
        "---\n",
        "\n",
        "## **4. `.FOR / .ENDF`**\n",
        "\n",
        "**Purpose:** Loop with initialization, condition, and increment.\n",
        "\n",
        "**Syntax:**\n",
        "\n",
        "```asm\n",
        ".FOR (initialization, condition, increment)\n",
        "    ; loop body\n",
        ".ENDF\n",
        "```\n",
        "\n",
        "**Example - Print First 5 Even Numbers**"
      ],
      "metadata": {
        "id": "XiXeJywBhP08"
      }
    },
    {
      "cell_type": "code",
      "source": [
        "INCLUDE Irvine32.inc\n",
        "\n",
        ".code\n",
        "main PROC\n",
        "    .FOR (mov eax, 0, eax < 10, add eax, 2)\n",
        "        call WriteInt\n",
        "        call Crlf\n",
        "    .ENDF\n",
        "    exit\n",
        "main ENDP\n",
        "END main"
      ],
      "metadata": {
        "id": "uYJ6eI8Ohxo_"
      },
      "execution_count": null,
      "outputs": []
    },
    {
      "cell_type": "markdown",
      "source": [
        "**Explanation:**\n",
        "\n",
        "* Works like a `for` loop in C:\n",
        "  Initialization → Check Condition → Loop Body → Increment → Repeat.\n",
        "\n",
        "---\n",
        "\n",
        "## **5. Why These Shortcuts Help**\n",
        "\n",
        "* **Cleaner code** - no manual jumps for simple conditions.\n",
        "* **Less error-prone** - MASM generates correct branching logic.\n",
        "* **Easier to read** - looks more like a high-level language.\n",
        "\n",
        "---\n",
        "\n",
        "## **6. Colab Simulation**\n",
        "\n",
        "In Colab, you'd:\n",
        "\n",
        "* Write the `.asm` file with `.IF`, `.WHILE`, `.FOR` constructs.\n",
        "* Assemble with JWasm/MASM inside DOSBox.\n",
        "* Run and observe how MASM expands them into regular CMP/JMP instructions."
      ],
      "metadata": {
        "id": "U2jJgt_NcGS6"
      }
    }
  ]
}